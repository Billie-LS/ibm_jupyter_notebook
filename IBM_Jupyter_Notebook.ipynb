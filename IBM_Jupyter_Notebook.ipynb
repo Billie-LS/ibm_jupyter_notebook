{
 "cells": [
  {
   "cell_type": "markdown",
   "metadata": {},
   "source": [
    "<center>\n",
    "    <img src=\"https://s3-api.us-geo.objectstorage.softlayer.net/cf-courses-data/CognitiveClass/Logos/organization_logo/organization_logo.png\" width=\"300\" alt=\"cognitiveclass.ai logo\"  />\n",
    "</center>\n"
   ]
  },
  {
   "cell_type": "markdown",
   "metadata": {},
   "source": [
    "#### Add your code below following the instructions given in the course\n"
   ]
  },
  {
   "cell_type": "markdown",
   "metadata": {},
   "source": [
    "# My Jupyter Notebook on IBM Watson Studio"
   ]
  },
  {
   "cell_type": "markdown",
   "metadata": {},
   "source": [
    "**'billie' LSLzrd** <br>\n",
    "FinTech Analyst"
   ]
  },
  {
   "cell_type": "markdown",
   "metadata": {},
   "source": [
    "*I am interested in data science because I find my mind is naturally very logical and analytical.  This combined with the enjoyment I receive solving market and finance problems and modeling potential future actions*"
   ]
  },
  {
   "cell_type": "markdown",
   "metadata": {},
   "source": [
    "### The code in the next cell is the code used to confirm functional pytorch installation. <br>\n",
    "`pytorch`  is An open source machine learning framework that accelerates the path from research prototyping to production deployment"
   ]
  },
  {
   "cell_type": "code",
   "execution_count": 1,
   "metadata": {},
   "outputs": [
    {
     "name": "stdout",
     "output_type": "stream",
     "text": [
      "tensor([[0.6581, 0.5174, 0.7852],\n",
      "        [0.4330, 0.0678, 0.4709],\n",
      "        [0.1839, 0.3749, 0.7097],\n",
      "        [0.1937, 0.4982, 0.3709],\n",
      "        [0.8234, 0.5133, 0.5546]])\n"
     ]
    }
   ],
   "source": [
    "import torch\n",
    "x = torch.rand(5, 3)\n",
    "print(x)"
   ]
  },
  {
   "cell_type": "markdown",
   "metadata": {},
   "source": [
    "> There are those those that sit in the sun. <br>\n",
    "> There are those that touch the sun!\n",
    "\n",
    "___\n",
    "\n",
    "- love\n",
    "- life\n",
    "- tomorrow\n",
    "\n",
    "___\n",
    "\n",
    "1. Open the file containing the Linux mascot.\n",
    "2. Marvel at its beauty.\n",
    "3. Close the file."
   ]
  },
  {
   "cell_type": "code",
   "execution_count": null,
   "metadata": {},
   "outputs": [],
   "source": []
  }
 ],
 "metadata": {
  "kernelspec": {
   "display_name": "Python",
   "language": "python",
   "name": "conda-env-python-py"
  },
  "language_info": {
   "codemirror_mode": {
    "name": "ipython",
    "version": 3
   },
   "file_extension": ".py",
   "mimetype": "text/x-python",
   "name": "python",
   "nbconvert_exporter": "python",
   "pygments_lexer": "ipython3",
   "version": "3.7.12"
  }
 },
 "nbformat": 4,
 "nbformat_minor": 4
}
